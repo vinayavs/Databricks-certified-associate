{
 "cells": [
  {
   "cell_type": "code",
   "execution_count": 0,
   "metadata": {
    "application/vnd.databricks.v1+cell": {
     "cellMetadata": {
      "byteLimit": 2048000,
      "rowLimit": 10000
     },
     "inputWidgets": {},
     "nuid": "04764624-ac66-4280-a5a3-b2bf7052f8f9",
     "showTitle": false,
     "title": ""
    }
   },
   "outputs": [],
   "source": [
    "import datetime\n",
    "users = [\n",
    "    {\n",
    "        \"id\": 1,\n",
    "        \"first_name\": \"Corrie\",\n",
    "        \"last_name\": \"Van den Oord\",\n",
    "        \"email\": \"cvandenoord0@etsy.com\",\n",
    "        \"is_customer\": True,\n",
    "        \"amount_paid\": 1000.55,\n",
    "        \"customer_from\": datetime.date(2021, 1, 15),\n",
    "        \"last_updated_ts\": datetime.datetime(2021, 2, 10, 1, 15, 0)\n",
    "    },\n",
    "    {\n",
    "        \"id\": 2,\n",
    "        \"first_name\": \"Nikolaus\",\n",
    "        \"last_name\": \"Brewitt\",\n",
    "        \"email\": \"nbrewitt1@dailymail.co.uk\",\n",
    "        \"is_customer\": True,\n",
    "        \"amount_paid\": 900.0,\n",
    "        \"customer_from\": datetime.date(2021, 2, 14),\n",
    "        \"last_updated_ts\": datetime.datetime(2021, 2, 18, 3, 33, 0)\n",
    "    },\n",
    "    {\n",
    "        \"id\": 3,\n",
    "        \"first_name\": \"Orelie\",\n",
    "        \"last_name\": \"Penney\",\n",
    "        \"email\": \"openney2@vistaprint.com\",\n",
    "        \"is_customer\": True,\n",
    "        \"amount_paid\": 850.55,\n",
    "        \"customer_from\": datetime.date(2021, 1, 21),\n",
    "        \"last_updated_ts\": datetime.datetime(2021, 3, 15, 15, 16, 55)\n",
    "    },\n",
    "    {\n",
    "        \"id\": 4,\n",
    "        \"first_name\": \"Ashby\",\n",
    "        \"last_name\": \"Maddocks\",\n",
    "        \"email\": \"amaddocks3@home.pl\",\n",
    "        \"is_customer\": False,\n",
    "        \"amount_paid\": None,\n",
    "        \"customer_from\": None,\n",
    "        \"last_updated_ts\": datetime.datetime(2021, 4, 10, 17, 45, 30)\n",
    "    },\n",
    "    {\n",
    "        \"id\": 5,\n",
    "        \"first_name\": \"Kurt\",\n",
    "        \"last_name\": \"Rome\",\n",
    "        \"email\": \"krome4@shutterfly.com\",\n",
    "        \"is_customer\": False,\n",
    "        \"amount_paid\": None,\n",
    "        \"customer_from\": None,\n",
    "        \"last_updated_ts\": datetime.datetime(2021, 4, 2, 0, 55, 18)\n",
    "    }\n",
    "]"
   ]
  },
  {
   "cell_type": "code",
   "execution_count": 0,
   "metadata": {
    "application/vnd.databricks.v1+cell": {
     "cellMetadata": {
      "byteLimit": 2048000,
      "rowLimit": 10000
     },
     "inputWidgets": {},
     "nuid": "7f13324b-b549-4975-a188-c2cff3d0a9ad",
     "showTitle": false,
     "title": ""
    }
   },
   "outputs": [
    {
     "output_type": "display_data",
     "data": {
      "text/html": [
       "<style scoped>\n",
       "  .table-result-container {\n",
       "    max-height: 300px;\n",
       "    overflow: auto;\n",
       "  }\n",
       "  table, th, td {\n",
       "    border: 1px solid black;\n",
       "    border-collapse: collapse;\n",
       "  }\n",
       "  th, td {\n",
       "    padding: 5px;\n",
       "  }\n",
       "  th {\n",
       "    text-align: left;\n",
       "  }\n",
       "</style><div class='table-result-container'><table class='table-result'><thead style='background-color: white'><tr><th>id</th><th>first_name</th><th>last_name</th><th>email</th><th>is_customer</th><th>amount_paid</th><th>customer_from</th><th>last_updated_ts</th></tr></thead><tbody><tr><td>1</td><td>Corrie</td><td>Van den Oord</td><td>cvandenoord0@etsy.com</td><td>true</td><td>1000.55</td><td>2021-01-15</td><td>2021-02-10T01:15:00.000+0000</td></tr><tr><td>2</td><td>Nikolaus</td><td>Brewitt</td><td>nbrewitt1@dailymail.co.uk</td><td>true</td><td>900.0</td><td>2021-02-14</td><td>2021-02-18T03:33:00.000+0000</td></tr><tr><td>3</td><td>Orelie</td><td>Penney</td><td>openney2@vistaprint.com</td><td>true</td><td>850.55</td><td>2021-01-21</td><td>2021-03-15T15:16:55.000+0000</td></tr><tr><td>4</td><td>Ashby</td><td>Maddocks</td><td>amaddocks3@home.pl</td><td>false</td><td>null</td><td>null</td><td>2021-04-10T17:45:30.000+0000</td></tr><tr><td>5</td><td>Kurt</td><td>Rome</td><td>krome4@shutterfly.com</td><td>false</td><td>null</td><td>null</td><td>2021-04-02T00:55:18.000+0000</td></tr></tbody></table></div>"
      ]
     },
     "metadata": {
      "application/vnd.databricks.v1+output": {
       "addedWidgets": {},
       "aggData": [],
       "aggError": "",
       "aggOverflow": false,
       "aggSchema": [],
       "aggSeriesLimitReached": false,
       "aggType": "",
       "arguments": {},
       "columnCustomDisplayInfos": {},
       "data": [
        [
         1,
         "Corrie",
         "Van den Oord",
         "cvandenoord0@etsy.com",
         true,
         1000.55,
         "2021-01-15",
         "2021-02-10T01:15:00.000+0000"
        ],
        [
         2,
         "Nikolaus",
         "Brewitt",
         "nbrewitt1@dailymail.co.uk",
         true,
         900.0,
         "2021-02-14",
         "2021-02-18T03:33:00.000+0000"
        ],
        [
         3,
         "Orelie",
         "Penney",
         "openney2@vistaprint.com",
         true,
         850.55,
         "2021-01-21",
         "2021-03-15T15:16:55.000+0000"
        ],
        [
         4,
         "Ashby",
         "Maddocks",
         "amaddocks3@home.pl",
         false,
         null,
         null,
         "2021-04-10T17:45:30.000+0000"
        ],
        [
         5,
         "Kurt",
         "Rome",
         "krome4@shutterfly.com",
         false,
         null,
         null,
         "2021-04-02T00:55:18.000+0000"
        ]
       ],
       "datasetInfos": [],
       "dbfsResultPath": null,
       "isJsonSchema": true,
       "metadata": {},
       "overflow": false,
       "plotOptions": {
        "customPlotOptions": {},
        "displayType": "table",
        "pivotAggregation": null,
        "pivotColumns": null,
        "xColumns": null,
        "yColumns": null
       },
       "removedWidgets": [],
       "schema": [
        {
         "metadata": "{}",
         "name": "id",
         "type": "\"long\""
        },
        {
         "metadata": "{}",
         "name": "first_name",
         "type": "\"string\""
        },
        {
         "metadata": "{}",
         "name": "last_name",
         "type": "\"string\""
        },
        {
         "metadata": "{}",
         "name": "email",
         "type": "\"string\""
        },
        {
         "metadata": "{}",
         "name": "is_customer",
         "type": "\"boolean\""
        },
        {
         "metadata": "{}",
         "name": "amount_paid",
         "type": "\"double\""
        },
        {
         "metadata": "{}",
         "name": "customer_from",
         "type": "\"date\""
        },
        {
         "metadata": "{}",
         "name": "last_updated_ts",
         "type": "\"timestamp\""
        }
       ],
       "type": "table"
      }
     },
     "output_type": "display_data"
    }
   ],
   "source": [
    "from pyspark.sql import Row\n",
    "user_rows=[Row(**user) for user in users]\n",
    "usersDf=spark.createDataFrame(user_rows)\n",
    "display(usersDf)"
   ]
  },
  {
   "cell_type": "code",
   "execution_count": 0,
   "metadata": {
    "application/vnd.databricks.v1+cell": {
     "cellMetadata": {
      "byteLimit": 2048000,
      "rowLimit": 10000
     },
     "inputWidgets": {},
     "nuid": "092f09e7-bce1-406a-8f77-2dfdc8e19e3b",
     "showTitle": false,
     "title": ""
    }
   },
   "outputs": [
    {
     "output_type": "stream",
     "name": "stdout",
     "output_type": "stream",
     "text": [
      "root\n |-- id: long (nullable = true)\n |-- first_name: string (nullable = true)\n |-- last_name: string (nullable = true)\n |-- email: string (nullable = true)\n |-- is_customer: boolean (nullable = true)\n |-- amount_paid: double (nullable = true)\n |-- customer_from: date (nullable = true)\n |-- last_updated_ts: timestamp (nullable = true)\n\n"
     ]
    }
   ],
   "source": [
    "usersDf.printSchema()"
   ]
  },
  {
   "cell_type": "code",
   "execution_count": 0,
   "metadata": {
    "application/vnd.databricks.v1+cell": {
     "cellMetadata": {
      "byteLimit": 2048000,
      "rowLimit": 10000
     },
     "inputWidgets": {},
     "nuid": "8b2d996f-093c-4ddb-93ee-37996dde6897",
     "showTitle": false,
     "title": ""
    }
   },
   "outputs": [
    {
     "output_type": "stream",
     "name": "stdout",
     "output_type": "stream",
     "text": [
      "Out[4]: ['id',\n 'first_name',\n 'last_name',\n 'email',\n 'is_customer',\n 'amount_paid',\n 'customer_from',\n 'last_updated_ts']"
     ]
    }
   ],
   "source": [
    "usersDf.columns"
   ]
  },
  {
   "cell_type": "code",
   "execution_count": 0,
   "metadata": {
    "application/vnd.databricks.v1+cell": {
     "cellMetadata": {
      "byteLimit": 2048000,
      "rowLimit": 10000
     },
     "inputWidgets": {},
     "nuid": "ba1fdaf5-4df3-4c5f-b79f-8a36bcd228f2",
     "showTitle": false,
     "title": ""
    }
   },
   "outputs": [
    {
     "output_type": "stream",
     "name": "stdout",
     "output_type": "stream",
     "text": [
      "Out[5]: [('id', 'bigint'),\n ('first_name', 'string'),\n ('last_name', 'string'),\n ('email', 'string'),\n ('is_customer', 'boolean'),\n ('amount_paid', 'double'),\n ('customer_from', 'date'),\n ('last_updated_ts', 'timestamp')]"
     ]
    }
   ],
   "source": [
    "usersDf.dtypes"
   ]
  }
 ],
 "metadata": {
  "application/vnd.databricks.v1+notebook": {
   "dashboards": [],
   "language": "python",
   "notebookMetadata": {
    "pythonIndentUnit": 4
   },
   "notebookName": "07_Datatypes_in_spark",
   "widgets": {}
  }
 },
 "nbformat": 4,
 "nbformat_minor": 0
}
