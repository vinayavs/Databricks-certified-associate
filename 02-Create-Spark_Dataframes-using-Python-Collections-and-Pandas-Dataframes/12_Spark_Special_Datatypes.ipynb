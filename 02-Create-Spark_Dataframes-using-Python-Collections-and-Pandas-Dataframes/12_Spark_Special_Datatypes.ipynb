{
 "cells": [
  {
   "cell_type": "markdown",
   "metadata": {
    "application/vnd.databricks.v1+cell": {
     "cellMetadata": {},
     "inputWidgets": {},
     "nuid": "10c21185-c59e-45ce-911d-befe130ff88d",
     "showTitle": false,
     "title": ""
    }
   },
   "source": [
    "Special types that are supported by Spark.\n",
    "\n",
    "**ARRAY STRUCT MAP**\n",
    "- Python structures such as list and dict can be implicitly converted to Spark ARRAY and MAP respectively.\n",
    "- We need to use few Spark related APIs to convert Python data structures to STRUCT type."
   ]
  }
 ],
 "metadata": {
  "application/vnd.databricks.v1+notebook": {
   "dashboards": [],
   "language": "python",
   "notebookMetadata": {
    "pythonIndentUnit": 4
   },
   "notebookName": "12_Spark_Special_Datatypes",
   "widgets": {}
  }
 },
 "nbformat": 4,
 "nbformat_minor": 0
}
