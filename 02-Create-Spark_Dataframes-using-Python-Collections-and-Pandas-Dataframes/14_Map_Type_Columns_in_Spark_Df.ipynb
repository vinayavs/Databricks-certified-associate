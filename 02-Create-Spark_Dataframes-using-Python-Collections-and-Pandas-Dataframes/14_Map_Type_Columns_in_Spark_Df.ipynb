{
 "cells": [
  {
   "cell_type": "code",
   "execution_count": 0,
   "metadata": {
    "application/vnd.databricks.v1+cell": {
     "cellMetadata": {
      "byteLimit": 2048000,
      "rowLimit": 10000
     },
     "inputWidgets": {},
     "nuid": "d0b8cf29-8efd-4681-a208-c884685f9a3b",
     "showTitle": false,
     "title": ""
    }
   },
   "outputs": [],
   "source": [
    "import datetime\n",
    "users = [\n",
    "    {\n",
    "        \"id\": 1,\n",
    "        \"first_name\": \"Corrie\",\n",
    "        \"last_name\": \"Van den Oord\",\n",
    "        \"email\": \"cvandenoord0@etsy.com\",\n",
    "        \"phone_numbers\": {\"mobile\": \"+1 234 567 8901\", \"home\": \"+1 234 567 8911\"},\n",
    "        \"is_customer\": True,\n",
    "        \"amount_paid\": 1000.55,\n",
    "        \"customer_from\": datetime.date(2021, 1, 15),\n",
    "        \"last_updated_ts\": datetime.datetime(2021, 2, 10, 1, 15, 0)\n",
    "    },\n",
    "    {\n",
    "        \"id\": 2,\n",
    "        \"first_name\": \"Nikolaus\",\n",
    "        \"last_name\": \"Brewitt\",\n",
    "        \"email\": \"nbrewitt1@dailymail.co.uk\",\n",
    "        \"phone_numbers\": {\"mobile\": \"+1 234 567 8923\", \"home\": \"+1 234 567 8934\"},\n",
    "        \"is_customer\": True,\n",
    "        \"amount_paid\": 900.0,\n",
    "        \"customer_from\": datetime.date(2021, 2, 14),\n",
    "        \"last_updated_ts\": datetime.datetime(2021, 2, 18, 3, 33, 0)\n",
    "    },\n",
    "    {\n",
    "        \"id\": 3,\n",
    "        \"first_name\": \"Orelie\",\n",
    "        \"last_name\": \"Penney\",\n",
    "        \"email\": \"openney2@vistaprint.com\",\n",
    "        \"phone_numbers\": {\"mobile\": \"+1 714 512 9752\", \"home\": \"+1 714 512 6601\"},\n",
    "        \"is_customer\": True,\n",
    "        \"amount_paid\": 850.55,\n",
    "        \"customer_from\": datetime.date(2021, 1, 21),\n",
    "        \"last_updated_ts\": datetime.datetime(2021, 3, 15, 15, 16, 55)\n",
    "    },\n",
    "    {\n",
    "        \"id\": 4,\n",
    "        \"first_name\": \"Ashby\",\n",
    "        \"last_name\": \"Maddocks\",\n",
    "        \"email\": \"amaddocks3@home.pl\",\n",
    "        \"phone_numbers\": None,\n",
    "        \"is_customer\": False,\n",
    "        \"amount_paid\": None,\n",
    "        \"customer_from\": None,\n",
    "        \"last_updated_ts\": datetime.datetime(2021, 4, 10, 17, 45, 30)\n",
    "    },\n",
    "    {\n",
    "        \"id\": 5,\n",
    "        \"first_name\": \"Kurt\",\n",
    "        \"last_name\": \"Rome\",\n",
    "        \"email\": \"krome4@shutterfly.com\",\n",
    "        \"phone_numbers\": {\"mobile\": \"+1 817 934 7142\"},\n",
    "        \"is_customer\": False,\n",
    "        \"amount_paid\": None,\n",
    "        \"customer_from\": None,\n",
    "        \"last_updated_ts\": datetime.datetime(2021, 4, 2, 0, 55, 18)\n",
    "    }\n",
    "]"
   ]
  },
  {
   "cell_type": "code",
   "execution_count": 0,
   "metadata": {
    "application/vnd.databricks.v1+cell": {
     "cellMetadata": {
      "byteLimit": 2048000,
      "rowLimit": 10000
     },
     "inputWidgets": {},
     "nuid": "8b2edc01-427f-4a8a-8726-26eb45a91180",
     "showTitle": false,
     "title": ""
    }
   },
   "outputs": [
    {
     "output_type": "display_data",
     "data": {
      "text/html": [
       "<style scoped>\n",
       "  .table-result-container {\n",
       "    max-height: 300px;\n",
       "    overflow: auto;\n",
       "  }\n",
       "  table, th, td {\n",
       "    border: 1px solid black;\n",
       "    border-collapse: collapse;\n",
       "  }\n",
       "  th, td {\n",
       "    padding: 5px;\n",
       "  }\n",
       "  th {\n",
       "    text-align: left;\n",
       "  }\n",
       "</style><div class='table-result-container'><table class='table-result'><thead style='background-color: white'><tr><th>id</th><th>first_name</th><th>last_name</th><th>email</th><th>phone_numbers</th><th>is_customer</th><th>amount_paid</th><th>customer_from</th><th>last_updated_ts</th></tr></thead><tbody><tr><td>1</td><td>Corrie</td><td>Van den Oord</td><td>cvandenoord0@etsy.com</td><td>Map(mobile -> +1 234 567 8901, home -> +1 234 567 8911)</td><td>true</td><td>1000.55</td><td>2021-01-15</td><td>2021-02-10T01:15:00.000+0000</td></tr><tr><td>2</td><td>Nikolaus</td><td>Brewitt</td><td>nbrewitt1@dailymail.co.uk</td><td>Map(mobile -> +1 234 567 8923, home -> +1 234 567 8934)</td><td>true</td><td>900.0</td><td>2021-02-14</td><td>2021-02-18T03:33:00.000+0000</td></tr><tr><td>3</td><td>Orelie</td><td>Penney</td><td>openney2@vistaprint.com</td><td>Map(mobile -> +1 714 512 9752, home -> +1 714 512 6601)</td><td>true</td><td>850.55</td><td>2021-01-21</td><td>2021-03-15T15:16:55.000+0000</td></tr><tr><td>4</td><td>Ashby</td><td>Maddocks</td><td>amaddocks3@home.pl</td><td>null</td><td>false</td><td>null</td><td>null</td><td>2021-04-10T17:45:30.000+0000</td></tr><tr><td>5</td><td>Kurt</td><td>Rome</td><td>krome4@shutterfly.com</td><td>Map(mobile -> +1 817 934 7142)</td><td>false</td><td>null</td><td>null</td><td>2021-04-02T00:55:18.000+0000</td></tr></tbody></table></div>"
      ]
     },
     "metadata": {
      "application/vnd.databricks.v1+output": {
       "addedWidgets": {},
       "aggData": [],
       "aggError": "",
       "aggOverflow": false,
       "aggSchema": [],
       "aggSeriesLimitReached": false,
       "aggType": "",
       "arguments": {},
       "columnCustomDisplayInfos": {},
       "data": [
        [
         1,
         "Corrie",
         "Van den Oord",
         "cvandenoord0@etsy.com",
         {
          "home": "+1 234 567 8911",
          "mobile": "+1 234 567 8901"
         },
         true,
         1000.55,
         "2021-01-15",
         "2021-02-10T01:15:00.000+0000"
        ],
        [
         2,
         "Nikolaus",
         "Brewitt",
         "nbrewitt1@dailymail.co.uk",
         {
          "home": "+1 234 567 8934",
          "mobile": "+1 234 567 8923"
         },
         true,
         900.0,
         "2021-02-14",
         "2021-02-18T03:33:00.000+0000"
        ],
        [
         3,
         "Orelie",
         "Penney",
         "openney2@vistaprint.com",
         {
          "home": "+1 714 512 6601",
          "mobile": "+1 714 512 9752"
         },
         true,
         850.55,
         "2021-01-21",
         "2021-03-15T15:16:55.000+0000"
        ],
        [
         4,
         "Ashby",
         "Maddocks",
         "amaddocks3@home.pl",
         null,
         false,
         null,
         null,
         "2021-04-10T17:45:30.000+0000"
        ],
        [
         5,
         "Kurt",
         "Rome",
         "krome4@shutterfly.com",
         {
          "mobile": "+1 817 934 7142"
         },
         false,
         null,
         null,
         "2021-04-02T00:55:18.000+0000"
        ]
       ],
       "datasetInfos": [],
       "dbfsResultPath": null,
       "isJsonSchema": true,
       "metadata": {},
       "overflow": false,
       "plotOptions": {
        "customPlotOptions": {},
        "displayType": "table",
        "pivotAggregation": null,
        "pivotColumns": null,
        "xColumns": null,
        "yColumns": null
       },
       "removedWidgets": [],
       "schema": [
        {
         "metadata": "{}",
         "name": "id",
         "type": "\"long\""
        },
        {
         "metadata": "{}",
         "name": "first_name",
         "type": "\"string\""
        },
        {
         "metadata": "{}",
         "name": "last_name",
         "type": "\"string\""
        },
        {
         "metadata": "{}",
         "name": "email",
         "type": "\"string\""
        },
        {
         "metadata": "{}",
         "name": "phone_numbers",
         "type": "{\"type\":\"map\",\"keyType\":\"string\",\"valueType\":\"string\",\"valueContainsNull\":true}"
        },
        {
         "metadata": "{}",
         "name": "is_customer",
         "type": "\"boolean\""
        },
        {
         "metadata": "{}",
         "name": "amount_paid",
         "type": "\"double\""
        },
        {
         "metadata": "{}",
         "name": "customer_from",
         "type": "\"date\""
        },
        {
         "metadata": "{}",
         "name": "last_updated_ts",
         "type": "\"timestamp\""
        }
       ],
       "type": "table"
      }
     },
     "output_type": "display_data"
    }
   ],
   "source": [
    "from pyspark.sql import Row\n",
    "from pyspark.sql.functions import col, explode, explode_outer\n",
    "usersDf=spark.createDataFrame([Row(**user) for user in users])\n",
    "display(usersDf)"
   ]
  },
  {
   "cell_type": "code",
   "execution_count": 0,
   "metadata": {
    "application/vnd.databricks.v1+cell": {
     "cellMetadata": {
      "byteLimit": 2048000,
      "rowLimit": 10000
     },
     "inputWidgets": {},
     "nuid": "ff71d099-9dc7-4ad2-af1c-6c0dd77ac0e7",
     "showTitle": false,
     "title": ""
    }
   },
   "outputs": [
    {
     "output_type": "stream",
     "name": "stdout",
     "output_type": "stream",
     "text": [
      "Out[3]: [('id', 'bigint'),\n ('first_name', 'string'),\n ('last_name', 'string'),\n ('email', 'string'),\n ('phone_numbers', 'map<string,string>'),\n ('is_customer', 'boolean'),\n ('amount_paid', 'double'),\n ('customer_from', 'date'),\n ('last_updated_ts', 'timestamp')]"
     ]
    }
   ],
   "source": [
    "usersDf.dtypes"
   ]
  },
  {
   "cell_type": "code",
   "execution_count": 0,
   "metadata": {
    "application/vnd.databricks.v1+cell": {
     "cellMetadata": {
      "byteLimit": 2048000,
      "rowLimit": 10000
     },
     "inputWidgets": {},
     "nuid": "3b51b99e-e50d-4c2b-8030-1879dfca1883",
     "showTitle": false,
     "title": ""
    }
   },
   "outputs": [
    {
     "output_type": "stream",
     "name": "stdout",
     "output_type": "stream",
     "text": [
      "+---+---------------+---------------+\n|id |mobile         |home           |\n+---+---------------+---------------+\n|1  |+1 234 567 8901|+1 234 567 8911|\n|2  |+1 234 567 8923|+1 234 567 8934|\n|3  |+1 714 512 9752|+1 714 512 6601|\n|4  |null           |null           |\n|5  |+1 817 934 7142|null           |\n+---+---------------+---------------+\n\n"
     ]
    }
   ],
   "source": [
    "usersDf.select(\"id\", col(\"phone_numbers\")['mobile'].alias(\"mobile\"), col(\"phone_numbers\")['home'].alias(\"home\")).show(truncate=False)"
   ]
  },
  {
   "cell_type": "code",
   "execution_count": 0,
   "metadata": {
    "application/vnd.databricks.v1+cell": {
     "cellMetadata": {
      "byteLimit": 2048000,
      "rowLimit": 10000
     },
     "inputWidgets": {},
     "nuid": "f5fcac30-06d4-4660-8415-dce610ca2f39",
     "showTitle": false,
     "title": ""
    }
   },
   "outputs": [
    {
     "output_type": "stream",
     "name": "stdout",
     "output_type": "stream",
     "text": [
      "+---+------+---------------+\n|id |key   |value          |\n+---+------+---------------+\n|1  |mobile|+1 234 567 8901|\n|1  |home  |+1 234 567 8911|\n|2  |mobile|+1 234 567 8923|\n|2  |home  |+1 234 567 8934|\n|3  |mobile|+1 714 512 9752|\n|3  |home  |+1 714 512 6601|\n|5  |mobile|+1 817 934 7142|\n+---+------+---------------+\n\n"
     ]
    }
   ],
   "source": [
    "usersDf.select(\"id\", explode(\"phone_numbers\")).show(truncate=False)"
   ]
  },
  {
   "cell_type": "code",
   "execution_count": 0,
   "metadata": {
    "application/vnd.databricks.v1+cell": {
     "cellMetadata": {
      "byteLimit": 2048000,
      "rowLimit": 10000
     },
     "inputWidgets": {},
     "nuid": "a99eb78f-8ddb-4fa3-b41b-6a4ba9e0e9c5",
     "showTitle": false,
     "title": ""
    }
   },
   "outputs": [
    {
     "output_type": "stream",
     "name": "stdout",
     "output_type": "stream",
     "text": [
      "+---+----------+---------------+\n|id |phone_type|phone_number   |\n+---+----------+---------------+\n|1  |mobile    |+1 234 567 8901|\n|1  |home      |+1 234 567 8911|\n|2  |mobile    |+1 234 567 8923|\n|2  |home      |+1 234 567 8934|\n|3  |mobile    |+1 714 512 9752|\n|3  |home      |+1 714 512 6601|\n|5  |mobile    |+1 817 934 7142|\n+---+----------+---------------+\n\n"
     ]
    }
   ],
   "source": [
    "usersDf \\\n",
    "    .select(\"id\", explode(\"phone_numbers\")) \\\n",
    "    .withColumnRenamed(\"key\", \"phone_type\") \\\n",
    "    .withColumnRenamed(\"value\",\"phone_number\") \\\n",
    "    .show(truncate=False)"
   ]
  },
  {
   "cell_type": "code",
   "execution_count": 0,
   "metadata": {
    "application/vnd.databricks.v1+cell": {
     "cellMetadata": {
      "byteLimit": 2048000,
      "rowLimit": 10000
     },
     "inputWidgets": {},
     "nuid": "1a020233-6d22-46d6-bb70-f07c0f8f03cb",
     "showTitle": false,
     "title": ""
    }
   },
   "outputs": [
    {
     "output_type": "stream",
     "name": "stdout",
     "output_type": "stream",
     "text": [
      "+---+----------+---------------+\n|id |phone_type|phone_number   |\n+---+----------+---------------+\n|1  |mobile    |+1 234 567 8901|\n|1  |home      |+1 234 567 8911|\n|2  |mobile    |+1 234 567 8923|\n|2  |home      |+1 234 567 8934|\n|3  |mobile    |+1 714 512 9752|\n|3  |home      |+1 714 512 6601|\n|4  |null      |null           |\n|5  |mobile    |+1 817 934 7142|\n+---+----------+---------------+\n\n"
     ]
    }
   ],
   "source": [
    "usersDf \\\n",
    "    .select(\"id\", explode_outer(\"phone_numbers\")) \\\n",
    "    .withColumnRenamed(\"key\", \"phone_type\") \\\n",
    "    .withColumnRenamed(\"value\",\"phone_number\") \\\n",
    "    .show(truncate=False)"
   ]
  }
 ],
 "metadata": {
  "application/vnd.databricks.v1+notebook": {
   "dashboards": [],
   "language": "python",
   "notebookMetadata": {
    "pythonIndentUnit": 4
   },
   "notebookName": "14_Map_Type_Columns_in_Spark_Df",
   "widgets": {}
  }
 },
 "nbformat": 4,
 "nbformat_minor": 0
}
