{
 "cells": [
  {
   "cell_type": "code",
   "execution_count": 0,
   "metadata": {
    "application/vnd.databricks.v1+cell": {
     "cellMetadata": {
      "byteLimit": 2048000,
      "rowLimit": 10000
     },
     "inputWidgets": {},
     "nuid": "75838407-8526-407c-a568-6ab5b3d51f33",
     "showTitle": false,
     "title": ""
    }
   },
   "outputs": [],
   "source": [
    "students_list=[(10, 'Allen'), (20, 'Donlad'), (30, 'Mark')]\n",
    "df1=spark.createDataFrame(students_list)\n",
    "\n",
    "schema='roll_no int, student_name string'\n",
    "df2=spark.createDataFrame(students_list, schema)"
   ]
  },
  {
   "cell_type": "code",
   "execution_count": 0,
   "metadata": {
    "application/vnd.databricks.v1+cell": {
     "cellMetadata": {
      "byteLimit": 2048000,
      "rowLimit": 10000
     },
     "inputWidgets": {},
     "nuid": "e113cf18-72be-4d7b-b708-6ce7a8a9e8be",
     "showTitle": false,
     "title": ""
    }
   },
   "outputs": [
    {
     "output_type": "stream",
     "name": "stdout",
     "output_type": "stream",
     "text": [
      "Out[9]: list"
     ]
    }
   ],
   "source": [
    "type(students_list)"
   ]
  },
  {
   "cell_type": "code",
   "execution_count": 0,
   "metadata": {
    "application/vnd.databricks.v1+cell": {
     "cellMetadata": {
      "byteLimit": 2048000,
      "rowLimit": 10000
     },
     "inputWidgets": {},
     "nuid": "4aa68625-2b49-4f8c-928b-d4c13868bbdf",
     "showTitle": false,
     "title": ""
    }
   },
   "outputs": [
    {
     "output_type": "stream",
     "name": "stdout",
     "output_type": "stream",
     "text": [
      "Out[3]: tuple"
     ]
    }
   ],
   "source": [
    "type(students_list[1])"
   ]
  },
  {
   "cell_type": "code",
   "execution_count": 0,
   "metadata": {
    "application/vnd.databricks.v1+cell": {
     "cellMetadata": {
      "byteLimit": 2048000,
      "rowLimit": 10000
     },
     "inputWidgets": {},
     "nuid": "acc285e0-d751-4e90-8943-e94101a62240",
     "showTitle": false,
     "title": ""
    }
   },
   "outputs": [
    {
     "output_type": "stream",
     "name": "stdout",
     "output_type": "stream",
     "text": [
      "Out[32]: [<Row(10, 'Allen')>, <Row(20, 'Donlad')>, <Row(30, 'Mark')>]"
     ]
    }
   ],
   "source": [
    "# To convert List Of Tupes into List of Rows - \n",
    "from pyspark.sql import Row\n",
    "\n",
    "# Right approach\n",
    "student_rows=[Row(*student) for student in students_list]\n",
    "student_rows"
   ]
  },
  {
   "cell_type": "code",
   "execution_count": 0,
   "metadata": {
    "application/vnd.databricks.v1+cell": {
     "cellMetadata": {
      "byteLimit": 2048000,
      "rowLimit": 10000
     },
     "inputWidgets": {},
     "nuid": "ca52de02-79f4-423e-a19a-0356c552fffa",
     "showTitle": false,
     "title": ""
    }
   },
   "outputs": [],
   "source": [
    "rowsDf1=spark.createDataFrame(student_rows)\n",
    "rowsDf2=spark.createDataFrame(student_rows, schema=schema)"
   ]
  },
  {
   "cell_type": "code",
   "execution_count": 0,
   "metadata": {
    "application/vnd.databricks.v1+cell": {
     "cellMetadata": {
      "byteLimit": 2048000,
      "rowLimit": 10000
     },
     "inputWidgets": {},
     "nuid": "14f67900-d93d-42da-a0ee-51b3fe459d30",
     "showTitle": false,
     "title": ""
    }
   },
   "outputs": [],
   "source": [
    "# without * varing args => Row([10, 'Allen']) - Row of List\n",
    "# Wrong approach\n",
    "student_rows_2=[Row(student) for student in students_list]\n",
    "student_rows_2"
   ]
  },
  {
   "cell_type": "code",
   "execution_count": 0,
   "metadata": {
    "application/vnd.databricks.v1+cell": {
     "cellMetadata": {
      "byteLimit": 2048000,
      "rowLimit": 10000
     },
     "inputWidgets": {},
     "nuid": "4a02df39-92cc-45d6-a6ec-7f13caee1be9",
     "showTitle": false,
     "title": ""
    }
   },
   "outputs": [
    {
     "output_type": "stream",
     "name": "stdout",
     "output_type": "stream",
     "text": [
      "Help on class Row in module pyspark.sql.types:\n\nclass Row(builtins.tuple)\n |  Row(*args: Optional[str], **kwargs: Optional[Any]) -> 'Row'\n |  \n |  A row in :class:`DataFrame`.\n |  The fields in it can be accessed:\n |  \n |  * like attributes (``row.key``)\n |  * like dictionary values (``row[key]``)\n |  \n |  ``key in row`` will search through row keys.\n |  \n |  Row can be used to create a row object by using named arguments.\n |  It is not allowed to omit a named argument to represent that the value is\n |  None or missing. This should be explicitly set to None in this case.\n |  \n |  .. versionchanged:: 3.0.0\n |      Rows created from named arguments no longer have\n |      field names sorted alphabetically and will be ordered in the position as\n |      entered.\n |  \n |  Examples\n |  --------\n |  >>> from pyspark.sql import Row\n |  >>> row = Row(name=\"Alice\", age=11)\n |  >>> row\n |  Row(name='Alice', age=11)\n |  >>> row['name'], row['age']\n |  ('Alice', 11)\n |  >>> row.name, row.age\n |  ('Alice', 11)\n |  >>> 'name' in row\n |  True\n |  >>> 'wrong_key' in row\n |  False\n |  \n |  Row also can be used to create another Row like class, then it\n |  could be used to create Row objects, such as\n |  \n |  >>> Person = Row(\"name\", \"age\")\n |  >>> Person\n |  <Row('name', 'age')>\n |  >>> 'name' in Person\n |  True\n |  >>> 'wrong_key' in Person\n |  False\n |  >>> Person(\"Alice\", 11)\n |  Row(name='Alice', age=11)\n |  \n |  This form can also be used to create rows as tuple values, i.e. with unnamed\n |  fields.\n |  \n |  >>> row1 = Row(\"Alice\", 11)\n |  >>> row2 = Row(name=\"Alice\", age=11)\n |  >>> row1 == row2\n |  True\n |  \n |  Method resolution order:\n |      Row\n |      builtins.tuple\n |      builtins.object\n |  \n |  Methods defined here:\n |  \n |  __call__(self, *args: Any) -> 'Row'\n |      create new Row object\n |  \n |  __contains__(self, item: Any) -> bool\n |      Return key in self.\n |  \n |  __getattr__(self, item: str) -> Any\n |  \n |  __getitem__(self, item: Any) -> Any\n |      Return self[key].\n |  \n |  __reduce__(self) -> Union[str, Tuple[Any, ...]]\n |      Returns a tuple so Python knows how to pickle Row.\n |  \n |  __repr__(self) -> str\n |      Printable representation of Row used in Python REPL.\n |  \n |  __setattr__(self, key: Any, value: Any) -> None\n |      Implement setattr(self, name, value).\n |  \n |  asDict(self, recursive: bool = False) -> Dict[str, Any]\n |      Return as a dict\n |      \n |      Parameters\n |      ----------\n |      recursive : bool, optional\n |          turns the nested Rows to dict (default: False).\n |      \n |      Notes\n |      -----\n |      If a row contains duplicate field names, e.g., the rows of a join\n |      between two :class:`DataFrame` that both have the fields of same names,\n |      one of the duplicate fields will be selected by ``asDict``. ``__getitem__``\n |      will also return one of the duplicate fields, however returned value might\n |      be different to ``asDict``.\n |      \n |      Examples\n |      --------\n |      >>> from pyspark.sql import Row\n |      >>> Row(name=\"Alice\", age=11).asDict() == {'name': 'Alice', 'age': 11}\n |      True\n |      >>> row = Row(key=1, value=Row(name='a', age=2))\n |      >>> row.asDict() == {'key': 1, 'value': Row(name='a', age=2)}\n |      True\n |      >>> row.asDict(True) == {'key': 1, 'value': {'name': 'a', 'age': 2}}\n |      True\n |  \n |  ----------------------------------------------------------------------\n |  Static methods defined here:\n |  \n |  __new__(cls, *args: Optional[str], **kwargs: Optional[Any]) -> 'Row'\n |      Create and return a new object.  See help(type) for accurate signature.\n |  \n |  ----------------------------------------------------------------------\n |  Data descriptors defined here:\n |  \n |  __dict__\n |      dictionary for instance variables (if defined)\n |  \n |  ----------------------------------------------------------------------\n |  Methods inherited from builtins.tuple:\n |  \n |  __add__(self, value, /)\n |      Return self+value.\n |  \n |  __eq__(self, value, /)\n |      Return self==value.\n |  \n |  __ge__(self, value, /)\n |      Return self>=value.\n |  \n |  __getattribute__(self, name, /)\n |      Return getattr(self, name).\n |  \n |  __getnewargs__(self, /)\n |  \n |  __gt__(self, value, /)\n |      Return self>value.\n |  \n |  __hash__(self, /)\n |      Return hash(self).\n |  \n |  __iter__(self, /)\n |      Implement iter(self).\n |  \n |  __le__(self, value, /)\n |      Return self<=value.\n |  \n |  __len__(self, /)\n |      Return len(self).\n |  \n |  __lt__(self, value, /)\n |      Return self<value.\n |  \n |  __mul__(self, value, /)\n |      Return self*value.\n |  \n |  __ne__(self, value, /)\n |      Return self!=value.\n |  \n |  __rmul__(self, value, /)\n |      Return value*self.\n |  \n |  count(self, value, /)\n |      Return number of occurrences of value.\n |  \n |  index(self, value, start=0, stop=9223372036854775807, /)\n |      Return first index of value.\n |      \n |      Raises ValueError if the value is not present.\n |  \n |  ----------------------------------------------------------------------\n |  Class methods inherited from builtins.tuple:\n |  \n |  __class_getitem__(...) from builtins.type\n |      See PEP 585\n\n"
     ]
    }
   ],
   "source": [
    "help(Row)"
   ]
  },
  {
   "cell_type": "code",
   "execution_count": 0,
   "metadata": {
    "application/vnd.databricks.v1+cell": {
     "cellMetadata": {
      "byteLimit": 2048000,
      "rowLimit": 10000
     },
     "inputWidgets": {},
     "nuid": "60cfa482-d26d-4086-89fc-47bd9f3f284d",
     "showTitle": false,
     "title": ""
    }
   },
   "outputs": [],
   "source": [
    "def dummy(*args):\n",
    "    print(args)\n",
    "    print(len(args))"
   ]
  },
  {
   "cell_type": "code",
   "execution_count": 0,
   "metadata": {
    "application/vnd.databricks.v1+cell": {
     "cellMetadata": {
      "byteLimit": 2048000,
      "rowLimit": 10000
     },
     "inputWidgets": {},
     "nuid": "ab11a08e-0040-4b44-b1e2-074ba76948cb",
     "showTitle": false,
     "title": ""
    }
   },
   "outputs": [
    {
     "output_type": "stream",
     "name": "stdout",
     "output_type": "stream",
     "text": [
      "(10, 'Allen')\n10 Allen\n*****\n((10, 'Allen'),)\n1\nNone\n*****\n(10, 'Allen')\n2\nNone\n"
     ]
    }
   ],
   "source": [
    "usr_details=(10, 'Allen')\n",
    "print(usr_details)\n",
    "print(*usr_details)\n",
    "print(\"*****\")\n",
    "\n",
    "print(dummy(usr_details))\n",
    "\n",
    "print(\"*****\")\n",
    "print(dummy(*usr_details))"
   ]
  },
  {
   "cell_type": "code",
   "execution_count": 0,
   "metadata": {
    "application/vnd.databricks.v1+cell": {
     "cellMetadata": {
      "byteLimit": 2048000,
      "rowLimit": 10000
     },
     "inputWidgets": {},
     "nuid": "1b7ae510-a3a7-416d-b2a6-680b85b4680f",
     "showTitle": false,
     "title": ""
    }
   },
   "outputs": [
    {
     "output_type": "stream",
     "name": "stdout",
     "output_type": "stream",
     "text": [
      "<Row(10, 'Allen')>\n"
     ]
    }
   ],
   "source": [
    "# print(Row(usr_details)) - Error\n",
    "print(Row(*usr_details))\n",
    "\n",
    "student_rows_2=[Row(student) for student in students_list]\n",
    "student_rows_2"
   ]
  }
 ],
 "metadata": {
  "application/vnd.databricks.v1+notebook": {
   "dashboards": [],
   "language": "python",
   "notebookMetadata": {
    "pythonIndentUnit": 4
   },
   "notebookName": "05_Convert_ListOfTuples_intodf_using_Row",
   "widgets": {}
  }
 },
 "nbformat": 4,
 "nbformat_minor": 0
}
