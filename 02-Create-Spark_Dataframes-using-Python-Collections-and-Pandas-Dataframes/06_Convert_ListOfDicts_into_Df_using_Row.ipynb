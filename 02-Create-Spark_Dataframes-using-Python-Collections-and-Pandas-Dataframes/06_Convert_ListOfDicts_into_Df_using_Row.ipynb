{
 "cells": [
  {
   "cell_type": "code",
   "execution_count": 0,
   "metadata": {
    "application/vnd.databricks.v1+cell": {
     "cellMetadata": {
      "byteLimit": 2048000,
      "rowLimit": 10000
     },
     "inputWidgets": {},
     "nuid": "80355a65-e07d-45f8-bd9c-8c39b02ee003",
     "showTitle": false,
     "title": ""
    }
   },
   "outputs": [],
   "source": [
    "students_list=[\n",
    "    {'roll_num':10, 'student_name':'Allen'},\n",
    "    {'roll_num':20, 'student_name':'Scott'},\n",
    "    {'roll_num':30, 'student_name':'Mark'},\n",
    "]"
   ]
  },
  {
   "cell_type": "code",
   "execution_count": 0,
   "metadata": {
    "application/vnd.databricks.v1+cell": {
     "cellMetadata": {
      "byteLimit": 2048000,
      "rowLimit": 10000
     },
     "inputWidgets": {},
     "nuid": "bdd331e5-f019-4390-b7ac-da775cb09109",
     "showTitle": false,
     "title": ""
    }
   },
   "outputs": [
    {
     "output_type": "stream",
     "name": "stdout",
     "output_type": "stream",
     "text": [
      "Out[4]: dict"
     ]
    }
   ],
   "source": [
    "type(students_list[1])"
   ]
  },
  {
   "cell_type": "code",
   "execution_count": 0,
   "metadata": {
    "application/vnd.databricks.v1+cell": {
     "cellMetadata": {
      "byteLimit": 2048000,
      "rowLimit": 10000
     },
     "inputWidgets": {},
     "nuid": "a0fee615-ea53-4ad5-a725-3aabd0ed5efb",
     "showTitle": false,
     "title": ""
    }
   },
   "outputs": [],
   "source": [
    "df1=spark.createDataFrame(students_list)  # Deprecated\n",
    "df2=spark.createDataFrame(students_list, 'roll_num int, student_name string')"
   ]
  },
  {
   "cell_type": "code",
   "execution_count": 0,
   "metadata": {
    "application/vnd.databricks.v1+cell": {
     "cellMetadata": {
      "byteLimit": 2048000,
      "rowLimit": 10000
     },
     "inputWidgets": {},
     "nuid": "ec6e1803-4956-4772-a8f1-debe80438204",
     "showTitle": false,
     "title": ""
    }
   },
   "outputs": [
    {
     "output_type": "stream",
     "name": "stdout",
     "output_type": "stream",
     "text": [
      "Out[17]: <Row(20, 'Scott')>"
     ]
    }
   ],
   "source": [
    "from pyspark.sql import Row\n",
    "\n",
    "student_dict = students_list[1]\n",
    "Row(*student_dict.values())"
   ]
  },
  {
   "cell_type": "code",
   "execution_count": 0,
   "metadata": {
    "application/vnd.databricks.v1+cell": {
     "cellMetadata": {
      "byteLimit": 2048000,
      "rowLimit": 10000
     },
     "inputWidgets": {},
     "nuid": "ceeec39e-26b4-448c-ae4f-b4efd2d80d59",
     "showTitle": false,
     "title": ""
    }
   },
   "outputs": [
    {
     "output_type": "stream",
     "name": "stdout",
     "output_type": "stream",
     "text": [
      "Out[20]: [<Row(10, 'Allen')>, <Row(20, 'Scott')>, <Row(30, 'Mark')>]"
     ]
    }
   ],
   "source": [
    "# Convert List of Dicts into Row of Lists\n",
    "student_rows=[Row(*student.values()) for student in students_list]\n",
    "student_rows"
   ]
  },
  {
   "cell_type": "code",
   "execution_count": 0,
   "metadata": {
    "application/vnd.databricks.v1+cell": {
     "cellMetadata": {
      "byteLimit": 2048000,
      "rowLimit": 10000
     },
     "inputWidgets": {},
     "nuid": "3a0851ae-5b56-43fc-b3f7-d9d9efe0834f",
     "showTitle": false,
     "title": ""
    }
   },
   "outputs": [],
   "source": [
    "df3=spark.createDataFrame(student_rows)\n",
    "df4=spark.createDataFrame(student_rows, 'roll_num int, student_name string')"
   ]
  },
  {
   "cell_type": "code",
   "execution_count": 0,
   "metadata": {
    "application/vnd.databricks.v1+cell": {
     "cellMetadata": {
      "byteLimit": 2048000,
      "rowLimit": 10000
     },
     "inputWidgets": {},
     "nuid": "eecdcb82-1f43-4e07-815e-beaf776d11fc",
     "showTitle": false,
     "title": ""
    }
   },
   "outputs": [
    {
     "output_type": "stream",
     "name": "stdout",
     "output_type": "stream",
     "text": [
      "Out[27]: [Row(roll_num=10, student_name='Allen'),\n Row(roll_num=20, student_name='Scott'),\n Row(roll_num=30, student_name='Mark')]"
     ]
    }
   ],
   "source": [
    "# 2nd Method using varing kwargs\n",
    "\n",
    "student_rows_kwargs=[Row(**student) for student in students_list]\n",
    "student_rows_kwargs"
   ]
  },
  {
   "cell_type": "code",
   "execution_count": 0,
   "metadata": {
    "application/vnd.databricks.v1+cell": {
     "cellMetadata": {
      "byteLimit": 2048000,
      "rowLimit": 10000
     },
     "inputWidgets": {},
     "nuid": "78be5380-3ff6-421b-a63c-84500e2438c9",
     "showTitle": false,
     "title": ""
    }
   },
   "outputs": [
    {
     "output_type": "stream",
     "name": "stdout",
     "output_type": "stream",
     "text": [
      "Out[29]: DataFrame[roll_num: bigint, student_name: string]"
     ]
    }
   ],
   "source": [
    "spark.createDataFrame(student_rows_kwargs)"
   ]
  },
  {
   "cell_type": "code",
   "execution_count": 0,
   "metadata": {
    "application/vnd.databricks.v1+cell": {
     "cellMetadata": {
      "byteLimit": 2048000,
      "rowLimit": 10000
     },
     "inputWidgets": {},
     "nuid": "c1ff1f91-bbf3-4ed3-8e85-3c756da6f993",
     "showTitle": false,
     "title": ""
    }
   },
   "outputs": [
    {
     "output_type": "stream",
     "name": "stdout",
     "output_type": "stream",
     "text": [
      "Out[30]: {'roll_num': 20, 'student_name': 'Scott'}"
     ]
    }
   ],
   "source": [
    "student_dict"
   ]
  },
  {
   "cell_type": "code",
   "execution_count": 0,
   "metadata": {
    "application/vnd.databricks.v1+cell": {
     "cellMetadata": {
      "byteLimit": 2048000,
      "rowLimit": 10000
     },
     "inputWidgets": {},
     "nuid": "f0adf8d8-b45a-44dd-aa06-532fa8680fd2",
     "showTitle": false,
     "title": ""
    }
   },
   "outputs": [],
   "source": [
    "def dummy(**kwargs):\n",
    "    print(kwargs)\n",
    "    print(len(kwargs))"
   ]
  },
  {
   "cell_type": "code",
   "execution_count": 0,
   "metadata": {
    "application/vnd.databricks.v1+cell": {
     "cellMetadata": {
      "byteLimit": 2048000,
      "rowLimit": 10000
     },
     "inputWidgets": {},
     "nuid": "2ffd7886-9648-486f-9479-5dc648c4bd97",
     "showTitle": false,
     "title": ""
    }
   },
   "outputs": [
    {
     "output_type": "display_data",
     "data": {
      "text/plain": [
       "\u001B[0;31m---------------------------------------------------------------------------\u001B[0m\n",
       "\u001B[0;31mTypeError\u001B[0m                                 Traceback (most recent call last)\n",
       "File \u001B[0;32m<command-1012649786653866>:1\u001B[0m\n",
       "\u001B[0;32m----> 1\u001B[0m \u001B[43mdummy\u001B[49m\u001B[43m(\u001B[49m\u001B[43mstudent_dict\u001B[49m\u001B[43m)\u001B[49m\n",
       "\n",
       "\u001B[0;31mTypeError\u001B[0m: dummy() takes 0 positional arguments but 1 was given"
      ]
     },
     "metadata": {
      "application/vnd.databricks.v1+output": {
       "arguments": {},
       "data": "\u001B[0;31m---------------------------------------------------------------------------\u001B[0m\n\u001B[0;31mTypeError\u001B[0m                                 Traceback (most recent call last)\nFile \u001B[0;32m<command-1012649786653866>:1\u001B[0m\n\u001B[0;32m----> 1\u001B[0m \u001B[43mdummy\u001B[49m\u001B[43m(\u001B[49m\u001B[43mstudent_dict\u001B[49m\u001B[43m)\u001B[49m\n\n\u001B[0;31mTypeError\u001B[0m: dummy() takes 0 positional arguments but 1 was given",
       "errorSummary": "<span class='ansi-red-fg'>TypeError</span>: dummy() takes 0 positional arguments but 1 was given",
       "errorTraceType": "ansi",
       "metadata": {},
       "type": "ipynbError"
      }
     },
     "output_type": "display_data"
    }
   ],
   "source": [
    "dummy(student_dict)"
   ]
  },
  {
   "cell_type": "code",
   "execution_count": 0,
   "metadata": {
    "application/vnd.databricks.v1+cell": {
     "cellMetadata": {
      "byteLimit": 2048000,
      "rowLimit": 10000
     },
     "inputWidgets": {},
     "nuid": "763c474c-827e-4897-97ae-a393e2b15199",
     "showTitle": false,
     "title": ""
    }
   },
   "outputs": [
    {
     "output_type": "stream",
     "name": "stdout",
     "output_type": "stream",
     "text": [
      "{'student_dict': {'roll_num': 20, 'student_name': 'Scott'}}\n1\n"
     ]
    }
   ],
   "source": [
    "dummy(student_dict=student_dict)"
   ]
  },
  {
   "cell_type": "code",
   "execution_count": 0,
   "metadata": {
    "application/vnd.databricks.v1+cell": {
     "cellMetadata": {
      "byteLimit": 2048000,
      "rowLimit": 10000
     },
     "inputWidgets": {},
     "nuid": "511c3670-4b4c-4429-bc22-ee1ccb7ac7b9",
     "showTitle": false,
     "title": ""
    }
   },
   "outputs": [
    {
     "output_type": "stream",
     "name": "stdout",
     "output_type": "stream",
     "text": [
      "{'roll_num': 20, 'student_name': 'Scott'}\n2\n"
     ]
    }
   ],
   "source": [
    "dummy(roll_num=20, student_name='Scott')"
   ]
  },
  {
   "cell_type": "code",
   "execution_count": 0,
   "metadata": {
    "application/vnd.databricks.v1+cell": {
     "cellMetadata": {
      "byteLimit": 2048000,
      "rowLimit": 10000
     },
     "inputWidgets": {},
     "nuid": "41032812-9337-4cb7-bc4c-1f86e92ddc12",
     "showTitle": false,
     "title": ""
    }
   },
   "outputs": [
    {
     "output_type": "stream",
     "name": "stdout",
     "output_type": "stream",
     "text": [
      "{'roll_num': 20, 'student_name': 'Scott'}\n2\n"
     ]
    }
   ],
   "source": [
    "dummy(**student_dict)"
   ]
  }
 ],
 "metadata": {
  "application/vnd.databricks.v1+notebook": {
   "dashboards": [],
   "language": "python",
   "notebookMetadata": {
    "pythonIndentUnit": 4
   },
   "notebookName": "06_Convert_ListOfDicts_into_Df_using_Row",
   "widgets": {}
  }
 },
 "nbformat": 4,
 "nbformat_minor": 0
}
